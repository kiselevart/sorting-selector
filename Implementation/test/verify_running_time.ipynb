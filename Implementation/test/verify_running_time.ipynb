{
 "cells": [
  {
   "cell_type": "code",
   "execution_count": 1,
   "metadata": {},
   "outputs": [],
   "source": [
    "import sys\n",
    "import os\n",
    "\n",
    "# Add the build directory to Python path\n",
    "build_dir = os.path.abspath('../')\n",
    "sys.path.insert(0, build_dir)\n",
    "\n",
    "import pandas as pd\n",
    "import numpy as np\n",
    "\n",
    "import sorters\n",
    "from data import list_generators"
   ]
  },
  {
   "cell_type": "code",
   "execution_count": 4,
   "metadata": {},
   "outputs": [
    {
     "name": "stdout",
     "output_type": "stream",
     "text": [
      "['adaptive_shivers_sort', 'cartesian_tree_sort', 'counting_sort', 'heap_sort', 'insertion_sort', 'mel_sort', 'merge_insertion_sort', 'merge_sort', 'poplar_sort', 'quick_sort', 'quick_merge_sort', 'selection_sort', 'ska_sort', 'slab_sort', 'smooth_sort', 'spin_sort', 'splay_sort', 'spread_sort', 'std_sort', 'tim_sort']\n"
     ]
    }
   ],
   "source": [
    "sorts = sorters.list_sorters()\n",
    "print(sorts)"
   ]
  },
  {
   "cell_type": "code",
   "execution_count": 5,
   "metadata": {},
   "outputs": [
    {
     "name": "stdout",
     "output_type": "stream",
     "text": [
      "[10, 110, 210, 310, 410, 510, 610, 710, 810, 910, 1010, 1110, 1210, 1310, 1410, 1510, 1610, 1710, 1810, 1910, 2010, 2110, 2210, 2310, 2410, 2510, 2610, 2710, 2810, 2910, 3010, 3110, 3210, 3310, 3410, 3510, 3610, 3710, 3810, 3910, 4010, 4110, 4210, 4310, 4410, 4510, 4610, 4710, 4810, 4910]\n"
     ]
    }
   ],
   "source": [
    "import data.list_generators as lg\n",
    "\n",
    "sizes = []\n",
    "for i in range (10, 5000, 100):\n",
    "    sizes.append(i)\n",
    "\n",
    "print(sizes)"
   ]
  },
  {
   "cell_type": "code",
   "execution_count": null,
   "metadata": {},
   "outputs": [],
   "source": [
    "dataset = []\n",
    "for size in sizes:\n",
    "    dataset.append(lg.randomize_list(lg.generate_list(size)))"
   ]
  },
  {
   "cell_type": "code",
   "execution_count": null,
   "metadata": {},
   "outputs": [],
   "source": [
    "times = []\n",
    "for sort in sorts:"
   ]
  }
 ],
 "metadata": {
  "kernelspec": {
   "display_name": "base",
   "language": "python",
   "name": "python3"
  },
  "language_info": {
   "codemirror_mode": {
    "name": "ipython",
    "version": 3
   },
   "file_extension": ".py",
   "mimetype": "text/x-python",
   "name": "python",
   "nbconvert_exporter": "python",
   "pygments_lexer": "ipython3",
   "version": "3.12.2"
  }
 },
 "nbformat": 4,
 "nbformat_minor": 4
}
