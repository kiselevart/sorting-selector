{
 "cells": [
  {
   "cell_type": "code",
   "execution_count": 1,
   "metadata": {},
   "outputs": [],
   "source": [
    "import sys\n",
    "import os\n",
    "\n",
    "# Add the build directory to Python path\n",
    "build_dir = os.path.abspath('../')\n",
    "sys.path.insert(0, build_dir)\n",
    "\n",
    "import pandas as pd\n",
    "import numpy as np\n",
    "\n",
    "import sorters\n",
    "from data import list_generators"
   ]
  },
  {
   "cell_type": "code",
   "execution_count": 2,
   "metadata": {},
   "outputs": [
    {
     "name": "stdout",
     "output_type": "stream",
     "text": [
      "['adaptive_shivers_sort', 'cartesian_tree_sort', 'counting_sort', 'heap_sort', 'insertion_sort', 'mel_sort', 'merge_sort', 'poplar_sort', 'quick_sort', 'quick_merge_sort', 'selection_sort', 'ska_sort', 'slab_sort', 'smooth_sort', 'spin_sort', 'splay_sort', 'spread_sort', 'std_sort', 'tim_sort']\n"
     ]
    }
   ],
   "source": [
    "sorts = sorters.list_sorters()\n",
    "print(sorts)"
   ]
  },
  {
   "cell_type": "code",
   "execution_count": 7,
   "metadata": {},
   "outputs": [
    {
     "name": "stdout",
     "output_type": "stream",
     "text": [
      "[10, 1010, 2010, 3010, 4010, 5010, 6010, 7010, 8010, 9010, 10010, 11010, 12010, 13010, 14010, 15010, 16010, 17010, 18010, 19010, 20010, 21010, 22010, 23010, 24010, 25010, 26010, 27010, 28010, 29010, 30010, 31010, 32010, 33010, 34010, 35010, 36010, 37010, 38010, 39010, 40010, 41010, 42010, 43010, 44010, 45010, 46010, 47010, 48010, 49010, 50010, 51010, 52010, 53010, 54010, 55010, 56010, 57010, 58010, 59010, 60010, 61010, 62010, 63010, 64010, 65010, 66010, 67010, 68010, 69010, 70010, 71010, 72010, 73010, 74010, 75010, 76010, 77010, 78010, 79010, 80010, 81010, 82010, 83010, 84010, 85010, 86010, 87010, 88010, 89010, 90010, 91010, 92010, 93010, 94010, 95010, 96010, 97010, 98010, 99010]\n"
     ]
    }
   ],
   "source": [
    "import data.list_generators as lg\n",
    "\n",
    "sizes = []\n",
    "for i in range (10, 100000, 1000):\n",
    "    sizes.append(i)\n",
    "\n",
    "print(sizes)"
   ]
  },
  {
   "cell_type": "code",
   "execution_count": 8,
   "metadata": {},
   "outputs": [],
   "source": [
    "dataset = []\n",
    "for size in sizes:\n",
    "    dataset.append(lg.randomize_list(lg.generate_list(size)))"
   ]
  },
  {
   "cell_type": "code",
   "execution_count": null,
   "metadata": {},
   "outputs": [
    {
     "name": "stdout",
     "output_type": "stream",
     "text": [
      "[239.44025, 320.328833, 8.864209, 145.746875, 21460.821291, 358.37075, 170.497375, 249.783, 182.04125, 195.720041, 41743.332292, 51.329041, 791.485666, 545.687833, 182.039417, 968.547875, 71.459125, 167.357542, 238.375875]\n"
     ]
    }
   ],
   "source": [
    "times = []\n",
    "for sort in sorts:\n",
    "    for arr in dataset:\n",
    "        sort_time = []\n",
    "        time = sorters.benchmark_sorter(sort, dataset)\n",
    "        times.append(time)\n",
    "\n",
    "print(times)"
   ]
  },
  {
   "cell_type": "code",
   "execution_count": 11,
   "metadata": {},
   "outputs": [
    {
     "name": "stdout",
     "output_type": "stream",
     "text": [
      "adaptive_shivers_sort :  239.44025 ms\n",
      "cartesian_tree_sort :  320.328833 ms\n",
      "counting_sort :  8.864209 ms\n",
      "heap_sort :  145.746875 ms\n",
      "insertion_sort :  21460.821291 ms\n",
      "mel_sort :  358.37075 ms\n",
      "merge_sort :  170.497375 ms\n",
      "poplar_sort :  249.783 ms\n",
      "quick_sort :  182.04125 ms\n",
      "quick_merge_sort :  195.720041 ms\n",
      "selection_sort :  41743.332292 ms\n",
      "ska_sort :  51.329041 ms\n",
      "slab_sort :  791.485666 ms\n",
      "smooth_sort :  545.687833 ms\n",
      "spin_sort :  182.039417 ms\n",
      "splay_sort :  968.547875 ms\n",
      "spread_sort :  71.459125 ms\n",
      "std_sort :  167.357542 ms\n",
      "tim_sort :  238.375875 ms\n"
     ]
    }
   ],
   "source": [
    "for i in range(len(sorts)):\n",
    "    print(sorts[i], \": \", times[i], \"ms\")"
   ]
  },
  {
   "cell_type": "code",
   "execution_count": null,
   "metadata": {},
   "outputs": [],
   "source": []
  }
 ],
 "metadata": {
  "kernelspec": {
   "display_name": "base",
   "language": "python",
   "name": "python3"
  },
  "language_info": {
   "codemirror_mode": {
    "name": "ipython",
    "version": 3
   },
   "file_extension": ".py",
   "mimetype": "text/x-python",
   "name": "python",
   "nbconvert_exporter": "python",
   "pygments_lexer": "ipython3",
   "version": "3.12.2"
  }
 },
 "nbformat": 4,
 "nbformat_minor": 4
}
