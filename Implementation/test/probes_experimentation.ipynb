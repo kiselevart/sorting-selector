{
 "cells": [
  {
   "cell_type": "code",
   "execution_count": null,
   "metadata": {},
   "outputs": [],
   "source": [
    "import sys\n",
    "import os\n",
    "\n",
    "# Add the build directory to Python path\n",
    "build_dir = os.path.abspath('../lib')\n",
    "sys.path.insert(0, build_dir)\n",
    "\n",
    "import pandas as pd\n",
    "import numpy as np\n",
    "\n",
    "import sorters\n",
    "import probes\n",
    "from data import list_generators as lg"
   ]
  },
  {
   "cell_type": "code",
   "execution_count": 6,
   "metadata": {},
   "outputs": [
    {
     "name": "stdout",
     "output_type": "stream",
     "text": [
      "Displacement: Sum of distances each element must move to reach its sorted position\n",
      "Entropy: Measure of disorder in the sequence based on information theory\n",
      "Exchanges: Minimum number of exchanges needed to sort the sequence\n",
      "Hamming distance: Number of elements that are not in their sorted position\n",
      "Inversions: Number of pairs of elements that are in the wrong order\n",
      "Max: Maximum distance an element must move to reach its sorted position\n",
      "Monotonicity: Number of adjacent elements that are not in order\n",
      "Oscillation: Measures how elements are oscillating around their final positions\n",
      "Rem: Minimum number of elements to remove to obtain a sorted sequence\n",
      "Runs: Number of monotonically increasing subsequences\n",
      "Suspension: Measure of how suspended elements are from their sorted positions\n"
     ]
    }
   ],
   "source": [
    "probe_list = probes.list_probes()\n",
    "for probe in probe_list:\n",
    "    print(probes.explain_probe(probe))"
   ]
  },
  {
   "cell_type": "code",
   "execution_count": null,
   "metadata": {},
   "outputs": [],
   "source": []
  }
 ],
 "metadata": {
  "kernelspec": {
   "display_name": "base",
   "language": "python",
   "name": "python3"
  },
  "language_info": {
   "codemirror_mode": {
    "name": "ipython",
    "version": 3
   },
   "file_extension": ".py",
   "mimetype": "text/x-python",
   "name": "python",
   "nbconvert_exporter": "python",
   "pygments_lexer": "ipython3",
   "version": "3.12.2"
  }
 },
 "nbformat": 4,
 "nbformat_minor": 2
}
