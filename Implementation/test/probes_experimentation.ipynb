{
 "cells": [
  {
   "cell_type": "code",
   "execution_count": 11,
   "metadata": {},
   "outputs": [],
   "source": [
    "import sys\n",
    "import os\n",
    "\n",
    "# Add the build directory to Python path\n",
    "build_dir = os.path.abspath('../lib')\n",
    "sys.path.insert(0, build_dir)\n",
    "\n",
    "# Add the data directory to Python path\n",
    "data_dir = os.path.abspath('../data')\n",
    "sys.path.insert(0, data_dir)\n",
    "\n",
    "import pandas as pd\n",
    "import numpy as np\n",
    "\n",
    "import sorters\n",
    "import probes\n",
    "\n",
    "import list_generators as lg"
   ]
  },
  {
   "cell_type": "code",
   "execution_count": 12,
   "metadata": {},
   "outputs": [
    {
     "name": "stdout",
     "output_type": "stream",
     "text": [
      "dis\n",
      "Displacement: Sum of distances each element must move to reach its sorted position\n",
      "enc\n",
      "Entropy: Measure of disorder in the sequence based on information theory\n",
      "exc\n",
      "Exchanges: Minimum number of exchanges needed to sort the sequence\n",
      "ham\n",
      "Hamming distance: Number of elements that are not in their sorted position\n",
      "inv\n",
      "Inversions: Number of pairs of elements that are in the wrong order\n",
      "max\n",
      "Max: Maximum distance an element must move to reach its sorted position\n",
      "mono\n",
      "Monotonicity: Number of adjacent elements that are not in order\n",
      "osc\n",
      "Oscillation: Measures how elements are oscillating around their final positions\n",
      "rem\n",
      "Rem: Minimum number of elements to remove to obtain a sorted sequence\n",
      "runs\n",
      "Runs: Number of monotonically increasing subsequences\n",
      "sus\n",
      "Suspension: Measure of how suspended elements are from their sorted positions\n"
     ]
    }
   ],
   "source": [
    "probe_list = probes.list_probes()\n",
    "for probe in probe_list:\n",
    "    print(probe)\n",
    "    print(probes.explain_probe(probe))"
   ]
  },
  {
   "cell_type": "code",
   "execution_count": 13,
   "metadata": {},
   "outputs": [
    {
     "data": {
      "text/plain": [
       "{'dis': 0,\n",
       " 'enc': 0,\n",
       " 'exc': 0,\n",
       " 'ham': 0,\n",
       " 'inv': 0,\n",
       " 'max': 0,\n",
       " 'mono': 0,\n",
       " 'osc': 0,\n",
       " 'rem': 0,\n",
       " 'runs': 0,\n",
       " 'sus': 0}"
      ]
     },
     "execution_count": 13,
     "metadata": {},
     "output_type": "execute_result"
    }
   ],
   "source": [
    "arr = lg.generate_list(1000)\n",
    "probes.measure_all(arr)"
   ]
  },
  {
   "cell_type": "code",
   "execution_count": 14,
   "metadata": {},
   "outputs": [
    {
     "name": "stdout",
     "output_type": "stream",
     "text": [
      "{'dis': 0, 'enc': 0, 'exc': 0, 'ham': 0, 'inv': 0, 'max': 0, 'mono': 0, 'osc': 0, 'rem': 0, 'runs': 0, 'sus': 0}\n",
      "{'dis': 999, 'enc': 39, 'exc': 990, 'ham': 1000, 'inv': 248300, 'max': 968, 'mono': 419, 'osc': 339719, 'rem': 940, 'runs': 501, 'sus': 54}\n",
      "{'dis': 1999, 'enc': 55, 'exc': 1993, 'ham': 2000, 'inv': 1017339, 'max': 1955, 'mono': 832, 'osc': 1361861, 'rem': 1916, 'runs': 1003, 'sus': 79}\n",
      "{'dis': 2994, 'enc': 71, 'exc': 2992, 'ham': 2999, 'inv': 2212704, 'max': 2983, 'mono': 1233, 'osc': 2996922, 'rem': 2899, 'runs': 1512, 'sus': 99}\n",
      "{'dis': 3996, 'enc': 81, 'exc': 3993, 'ham': 4001, 'inv': 3996423, 'max': 3897, 'mono': 1658, 'osc': 5304632, 'rem': 3886, 'runs': 1980, 'sus': 122}\n",
      "{'dis': 5000, 'enc': 90, 'exc': 4989, 'ham': 4998, 'inv': 6264539, 'max': 4921, 'mono': 2070, 'osc': 8358139, 'rem': 4868, 'runs': 2506, 'sus': 134}\n",
      "{'dis': 5997, 'enc': 101, 'exc': 5991, 'ham': 6001, 'inv': 9017223, 'max': 5959, 'mono': 2462, 'osc': 12018673, 'rem': 5853, 'runs': 3023, 'sus': 145}\n",
      "{'dis': 7000, 'enc': 109, 'exc': 6989, 'ham': 7000, 'inv': 12283791, 'max': 6897, 'mono': 2880, 'osc': 16282765, 'rem': 6841, 'runs': 3507, 'sus': 159}\n",
      "{'dis': 8000, 'enc': 126, 'exc': 7990, 'ham': 8000, 'inv': 16143218, 'max': 7926, 'mono': 3304, 'osc': 21309635, 'rem': 7821, 'runs': 3991, 'sus': 178}\n",
      "{'dis': 9000, 'enc': 126, 'exc': 8980, 'ham': 8999, 'inv': 20112474, 'max': 8928, 'mono': 3706, 'osc': 27156575, 'rem': 8821, 'runs': 4496, 'sus': 180}\n"
     ]
    }
   ],
   "source": [
    "sizes = []\n",
    "for i in range (1, 10000, 1000):\n",
    "    sizes.append(i)\n",
    "\n",
    "dataset = []\n",
    "for size in sizes:\n",
    "    dataset.append(lg.randomize_list(lg.generate_list(size)))\n",
    "\n",
    "presortedness = []\n",
    "for arr in dataset:\n",
    "    presortedness.append(probes.measure_all(arr))\n",
    "\n",
    "for arr in presortedness:\n",
    "    print(arr)"
   ]
  },
  {
   "cell_type": "code",
   "execution_count": 16,
   "metadata": {},
   "outputs": [
    {
     "name": "stdout",
     "output_type": "stream",
     "text": [
      "dis :  [0.00075, 0.004166, 0.007042, 0.009917, 0.014, 0.01825, 0.017375, 0.018917, 0.021375, 0.023833]\n",
      "enc :  [4.2e-05, 0.022833, 0.04175, 0.060292, 0.07875, 0.099625, 0.117833, 0.137583, 0.154292, 0.241167]\n",
      "exc :  [0.000208, 0.060791, 0.126041, 0.203833, 0.275708, 0.371458, 0.471833, 0.56175, 0.874583, 0.7305]\n",
      "ham :  [8.3e-05, 0.045667, 0.100709, 0.164459, 0.221791, 0.32275, 0.35725, 0.461084, 0.496292, 0.541459]\n",
      "inv :  [0.000125, 0.071166, 0.142959, 0.20275, 0.277834, 0.357625, 0.438417, 0.522208, 0.625333, 0.869291]\n",
      "max :  [8.3e-05, 0.115583, 0.249875, 0.402875, 0.536834, 0.638083, 0.764083, 0.915916, 1.091542, 1.233417]\n",
      "mono :  [4.2e-05, 0.003292, 0.006125, 0.009583, 0.012875, 0.015958, 0.018834, 0.0215, 0.024584, 0.0255]\n",
      "osc :  [0.0, 0.101958, 0.414542, 0.538084, 0.460083, 0.589834, 0.746709, 0.878667, 1.028, 1.310292]\n",
      "rem :  [0.000125, 0.017917, 0.032958, 0.055958, 0.078166, 0.0835, 0.095333, 0.117375, 0.151625, 0.160583]\n",
      "runs :  [4.1e-05, 0.002875, 0.006084, 0.008791, 0.012, 0.014625, 0.017542, 0.020625, 0.0235, 0.0265]\n",
      "sus :  [0.0, 0.019083, 0.032708, 0.054333, 0.073666, 0.086125, 0.10825, 0.131, 0.161291, 0.185875]\n"
     ]
    }
   ],
   "source": [
    "times = []\n",
    "for probe in probe_list:\n",
    "    probe_time = []\n",
    "    for arr in dataset:\n",
    "        probe_time.append(probes.benchmark_probe_by_name(probe, arr))\n",
    "    times.append(probe_time)\n",
    "\n",
    "for i in range(len(probe_list)):\n",
    "    print(probe_list[i], \": \", times[i])"
   ]
  },
  {
   "cell_type": "code",
   "execution_count": null,
   "metadata": {},
   "outputs": [],
   "source": []
  }
 ],
 "metadata": {
  "kernelspec": {
   "display_name": "base",
   "language": "python",
   "name": "python3"
  },
  "language_info": {
   "codemirror_mode": {
    "name": "ipython",
    "version": 3
   },
   "file_extension": ".py",
   "mimetype": "text/x-python",
   "name": "python",
   "nbconvert_exporter": "python",
   "pygments_lexer": "ipython3",
   "version": "3.12.2"
  }
 },
 "nbformat": 4,
 "nbformat_minor": 2
}
