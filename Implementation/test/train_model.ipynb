{
 "cells": [
  {
   "cell_type": "code",
   "execution_count": 1,
   "metadata": {},
   "outputs": [],
   "source": [
    "import sys\n",
    "import os\n",
    "\n",
    "# Add the build directory to Python path\n",
    "build_dir = os.path.abspath('/Users/kisel/uni/apal/Algorithm-Selector/Implementation/lib')\n",
    "sys.path.insert(0, build_dir)\n",
    "\n",
    "# Add the data directory to Python path\n",
    "data_dir = os.path.abspath('/Users/kisel/uni/apal/Algorithm-Selector/Implementation/data')\n",
    "sys.path.insert(0, data_dir)\n",
    "\n",
    "import pandas as pd\n",
    "import numpy as np\n",
    "from tqdm import tqdm\n",
    "\n",
    "import sorters\n",
    "import probes\n",
    "import time\n",
    "\n",
    "import list_generators as lg\n",
    "import runtime_features as rf\n",
    "import create_features_dataset as cfd"
   ]
  },
  {
   "cell_type": "code",
   "execution_count": 2,
   "metadata": {},
   "outputs": [
    {
     "name": "stdout",
     "output_type": "stream",
     "text": [
      "<class 'pandas.core.frame.DataFrame'>\n",
      "RangeIndex: 30000 entries, 26000 to 55999\n",
      "Data columns (total 4 columns):\n",
      " #   Column     Non-Null Count  Dtype \n",
      "---  ------     --------------  ----- \n",
      " 0   list_type  30000 non-null  object\n",
      " 1   data       30000 non-null  object\n",
      " 2   features   30000 non-null  object\n",
      " 3   best_sort  30000 non-null  object\n",
      "dtypes: object(4)\n",
      "memory usage: 937.6+ KB\n"
     ]
    }
   ],
   "source": [
    "data = pd.read_feather(\"/Users/kisel/uni/apal/Algorithm-Selector/Implementation/data/data_and_features.feather\")\n",
    "data = data.tail(30000)\n",
    "data.info()"
   ]
  },
  {
   "cell_type": "code",
   "execution_count": 3,
   "metadata": {},
   "outputs": [
    {
     "data": {
      "text/plain": [
       "best_sort\n",
       "std_sort          13024\n",
       "insertion_sort     6988\n",
       "spin_sort          6147\n",
       "quick_sort         2609\n",
       "tim_sort           1009\n",
       "merge_sort          223\n",
       "Name: count, dtype: int64"
      ]
     },
     "execution_count": 3,
     "metadata": {},
     "output_type": "execute_result"
    }
   ],
   "source": [
    "data['best_sort'].value_counts()"
   ]
  },
  {
   "cell_type": "code",
   "execution_count": 4,
   "metadata": {},
   "outputs": [
    {
     "name": "stdout",
     "output_type": "stream",
     "text": [
      "       avg_dup_distinct  avg_dup_pos  categorical_kurtosis  categorical_skew  \\\n",
      "0                   0.0          0.0                   0.0               0.0   \n",
      "1                   0.0          0.0                   0.0               0.0   \n",
      "2                   0.0          0.0                   0.0               0.0   \n",
      "3                   0.0          0.0                   0.0               0.0   \n",
      "4                   0.0          0.0                   0.0               0.0   \n",
      "...                 ...          ...                   ...               ...   \n",
      "29995               0.0          0.0                   0.0               0.0   \n",
      "29996               0.0          0.0                   0.0               0.0   \n",
      "29997               0.0          0.0                   0.0               0.0   \n",
      "29998               0.0          0.0                   0.0               0.0   \n",
      "29999               0.0          0.0                   0.0               0.0   \n",
      "\n",
      "        dis    entropy  mono      range  runs   size  \n",
      "0        98   6.643856    41  81.478319    52    100  \n",
      "1        97   6.643856    39  97.681855    47    100  \n",
      "2        98   6.643856    45  65.622461    47    100  \n",
      "3        99   6.643856    43  98.230340    49    100  \n",
      "4        99   6.643856    42  55.511825    49    100  \n",
      "...     ...        ...   ...        ...   ...    ...  \n",
      "29995  9998  13.287712  3183   2.193362  5004  10000  \n",
      "29996  9998  13.287712  3183   2.197432  4972  10000  \n",
      "29997  9998  13.287712  3183   2.196491  4995  10000  \n",
      "29998  9998  13.287712  3183   2.197379  4985  10000  \n",
      "29999  9998  13.287712  3183   2.195937  5007  10000  \n",
      "\n",
      "[30000 rows x 10 columns]\n"
     ]
    }
   ],
   "source": [
    "feat_rows = []\n",
    "for row in data['features']:\n",
    "    feat_rows.append(row)\n",
    "\n",
    "df = pd.DataFrame(feat_rows)\n",
    "print(df)"
   ]
  },
  {
   "cell_type": "code",
   "execution_count": 5,
   "metadata": {},
   "outputs": [
    {
     "name": "stdout",
     "output_type": "stream",
     "text": [
      "best_sort\n",
      "std_sort          13024\n",
      "insertion_sort     6988\n",
      "spin_sort          6147\n",
      "quick_sort         2609\n",
      "tim_sort           1009\n",
      "merge_sort          223\n",
      "Name: count, dtype: int64\n",
      "[LightGBM] [Info] Auto-choosing row-wise multi-threading, the overhead of testing was 0.000617 seconds.\n",
      "You can set `force_row_wise=true` to remove the overhead.\n",
      "And if memory is not enough, you can set `force_col_wise=true`.\n",
      "[LightGBM] [Info] Total Bins 2000\n",
      "[LightGBM] [Info] Number of data points in the train set: 24000, number of used features: 10\n",
      "[LightGBM] [Info] Start training from score -1.791759\n",
      "[LightGBM] [Info] Start training from score -1.791759\n",
      "[LightGBM] [Info] Start training from score -1.791759\n",
      "[LightGBM] [Info] Start training from score -1.791759\n",
      "[LightGBM] [Info] Start training from score -1.791759\n",
      "[LightGBM] [Info] Start training from score -1.791759\n",
      "[LightGBM] [Warning] No further splits with positive gain, best gain: -inf\n",
      "Accuracy: 0.8735\n"
     ]
    }
   ],
   "source": [
    "import pandas as pd\n",
    "from sklearn.model_selection import train_test_split\n",
    "from sklearn.metrics import accuracy_score\n",
    "from lightgbm import LGBMClassifier\n",
    "\n",
    "# 1. Build X correctly\n",
    "X = pd.DataFrame(data['features'].tolist()).fillna(0)\n",
    "\n",
    "# 2. Inspect target balance\n",
    "print(data['best_sort'].value_counts())\n",
    "\n",
    "# 3. Train/test split\n",
    "X_train, X_test, y_train, y_test = train_test_split(\n",
    "    X, data['best_sort'], test_size=0.2, random_state=42\n",
    ")\n",
    "\n",
    "model = LGBMClassifier(\n",
    "    n_estimators=300,\n",
    "    learning_rate=0.02,\n",
    "    random_state=42,\n",
    "    class_weight='balanced'\n",
    ")\n",
    "\n",
    "# 5. Fit + Evaluate\n",
    "model.fit(X_train, y_train)\n",
    "print(\"Accuracy:\", accuracy_score(y_test, model.predict(X_test)))"
   ]
  },
  {
   "cell_type": "code",
   "execution_count": 18,
   "metadata": {},
   "outputs": [
    {
     "name": "stdout",
     "output_type": "stream",
     "text": [
      "Accuracy: 0.8911666666666667\n",
      "                precision    recall  f1-score   support\n",
      "\n",
      "insertion_sort       0.99      1.00      1.00      1396\n",
      "    merge_sort       0.05      0.02      0.03        48\n",
      "    quick_sort       0.73      0.68      0.70       471\n",
      "     spin_sort       0.77      0.91      0.84      1269\n",
      "      std_sort       0.93      0.87      0.90      2612\n",
      "      tim_sort       1.00      1.00      1.00       204\n",
      "\n",
      "      accuracy                           0.89      6000\n",
      "     macro avg       0.75      0.75      0.74      6000\n",
      "  weighted avg       0.89      0.89      0.89      6000\n",
      "\n"
     ]
    }
   ],
   "source": [
    "from sklearn.ensemble import RandomForestClassifier\n",
    "from sklearn.metrics import classification_report, accuracy_score\n",
    "\n",
    "# Model with class_weight balanced\n",
    "rf_model = RandomForestClassifier(\n",
    "    n_estimators=300,\n",
    "    max_depth=None,\n",
    "    random_state=42,\n",
    "    class_weight='balanced'  # Adjusts for class imbalance\n",
    ")\n",
    "\n",
    "# Train the model\n",
    "rf_model.fit(X_train, y_train)\n",
    "\n",
    "# Predict\n",
    "y_pred = rf_model.predict(X_test)\n",
    "\n",
    "# Evaluate\n",
    "print(\"Accuracy:\", accuracy_score(y_test, y_pred))\n",
    "print(classification_report(y_test, y_pred))\n"
   ]
  },
  {
   "cell_type": "code",
   "execution_count": 7,
   "metadata": {},
   "outputs": [],
   "source": [
    "def find_best_sorter(arr):\n",
    "    best_name, best_time = None, float(\"inf\")\n",
    "    for sorter in sorters.list_sorters():\n",
    "        time = sorters.benchmark_sorter(sorter, arr)\n",
    "        if time < best_time:\n",
    "            best_time, best_name = time, sorter\n",
    "\n",
    "    return best_name"
   ]
  },
  {
   "cell_type": "code",
   "execution_count": 20,
   "metadata": {},
   "outputs": [
    {
     "name": "stdout",
     "output_type": "stream",
     "text": [
      "\n",
      "Model prediction time: 0.00s\n",
      "Benchmark (true best) time: 0.01s\n",
      "\n",
      "Index  Model                Best (Measured)      Match?\n",
      "------------------------------------------------------------\n",
      "0      spin_sort            std_sort             ❌\n",
      "1      spin_sort            spin_sort            ✅\n",
      "2      quick_sort           spin_sort            ❌\n",
      "3      spin_sort            spin_sort            ✅\n",
      "4      spin_sort            spin_sort            ✅\n",
      "5      spin_sort            spin_sort            ✅\n",
      "6      std_sort             spin_sort            ❌\n",
      "7      std_sort             spin_sort            ❌\n",
      "8      spin_sort            spin_sort            ✅\n",
      "9      std_sort             std_sort             ✅\n",
      "10     std_sort             std_sort             ✅\n",
      "11     quick_sort           merge_sort           ❌\n",
      "12     std_sort             std_sort             ✅\n",
      "13     spin_sort            spin_sort            ✅\n",
      "14     spin_sort            quick_sort           ❌\n",
      "15     spin_sort            std_sort             ❌\n",
      "16     spin_sort            std_sort             ❌\n",
      "17     std_sort             std_sort             ✅\n",
      "18     std_sort             quick_sort           ❌\n",
      "19     quick_sort           quick_sort           ✅\n",
      "\n",
      "Matched 11 out of 20 (55.0% accuracy)\n"
     ]
    }
   ],
   "source": [
    "import numpy as np\n",
    "import pandas as pd\n",
    "import time\n",
    "\n",
    "# 1. Generate test lists\n",
    "lsts = [np.random.randint(0, 10000, size=1000).tolist() for _ in range(20)]\n",
    "\n",
    "# 2. Extract features\n",
    "feature_dicts = [rf.extract_features(lst) for lst in lsts]\n",
    "X_batch = pd.DataFrame(feature_dicts).fillna(0)\n",
    "X_batch = X_batch[X_train.columns]\n",
    "\n",
    "# 3. Predict using trained model\n",
    "start_model = time.time()\n",
    "model_preds = rf_model.predict(X_batch)\n",
    "\n",
    "\n",
    "# 4. Benchmark actual best sorters\n",
    "start_true = time.time()\n",
    "true_preds = [find_best_sorter(lst) for lst in lsts]\n",
    "true_time = time.time() - start_true\n",
    "\n",
    "# 5. Display results\n",
    "print(f\"\\nModel prediction time: {model_time:.2f}s\")\n",
    "print(f\"Benchmark (true best) time: {true_time:.2f}s\\n\")\n",
    "\n",
    "print(f\"{'Index':<6} {'Model':<20} {'Best (Measured)':<20} {'Match?'}\")\n",
    "print(\"-\" * 60)\n",
    "for i, (m, t) in enumerate(zip(model_preds, true_preds)):\n",
    "    print(f\"{i:<6} {m:<20} {t:<20} {'✅' if m == t else '❌'}\")\n",
    "\n",
    "# 6. Accuracy\n",
    "matches = sum(m == t for m, t in zip(model_preds, true_preds))\n",
    "print(f\"\\nMatched {matches} out of {len(lsts)} ({matches / len(lsts) * 100:.1f}% accuracy)\")\n"
   ]
  },
  {
   "cell_type": "code",
   "execution_count": 21,
   "metadata": {},
   "outputs": [
    {
     "name": "stdout",
     "output_type": "stream",
     "text": [
      "\n",
      "Feature Importances:\n",
      "mono                      0.2444\n",
      "runs                      0.2300\n",
      "range                     0.1668\n",
      "dis                       0.1461\n",
      "entropy                   0.0605\n",
      "avg_dup_distinct          0.0360\n",
      "avg_dup_pos               0.0302\n",
      "categorical_kurtosis      0.0296\n",
      "categorical_skew          0.0288\n",
      "size                      0.0278\n"
     ]
    }
   ],
   "source": [
    "importances = rf_model.feature_importances_\n",
    "features = X_train.columns\n",
    "\n",
    "# Pair and sort\n",
    "importance_list = sorted(zip(features, importances), key=lambda x: x[1], reverse=True)\n",
    "\n",
    "print(\"\\nFeature Importances:\")\n",
    "for feat, imp in importance_list:\n",
    "    print(f\"{feat:<25} {imp:.4f}\")\n"
   ]
  },
  {
   "cell_type": "code",
   "execution_count": 22,
   "metadata": {},
   "outputs": [
    {
     "data": {
      "image/png": "[encoded data removed]",
      "text/plain": [
       "<Figure size 800x500 with 1 Axes>"
      ]
     },
     "metadata": {},
     "output_type": "display_data"
    }
   ],
   "source": [
    "import matplotlib.pyplot as plt\n",
    "\n",
    "# Plot top N features\n",
    "top_n = 10\n",
    "top_feats = importance_list[:top_n]\n",
    "names, scores = zip(*top_feats)\n",
    "\n",
    "plt.figure(figsize=(8, 5))\n",
    "plt.barh(names[::-1], scores[::-1])\n",
    "plt.xlabel(\"Importance\")\n",
    "plt.title(f\"Top {top_n} Feature Importances\")\n",
    "plt.tight_layout()\n",
    "plt.show()\n"
   ]
  },
  {
   "cell_type": "code",
   "execution_count": null,
   "metadata": {},
   "outputs": [],
   "source": []
  }
 ],
 "metadata": {
  "kernelspec": {
   "display_name": "base",
   "language": "python",
   "name": "python3"
  },
  "language_info": {
   "codemirror_mode": {
    "name": "ipython",
    "version": 3
   },
   "file_extension": ".py",
   "mimetype": "text/x-python",
   "name": "python",
   "nbconvert_exporter": "python",
   "pygments_lexer": "ipython3",
   "version": "3.12.2"
  }
 },
 "nbformat": 4,
 "nbformat_minor": 2
}
